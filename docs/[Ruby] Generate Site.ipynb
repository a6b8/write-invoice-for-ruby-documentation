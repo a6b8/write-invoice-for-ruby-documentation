{
 "cells": [
  {
   "cell_type": "code",
   "execution_count": 14,
   "metadata": {},
   "outputs": [
    {
     "data": {
      "text/plain": [
       "false"
      ]
     },
     "execution_count": 14,
     "metadata": {},
     "output_type": "execute_result"
    }
   ],
   "source": [
    "root = Dir.pwd.split( '2021-10-16--invoice-builder-documentation' ).first\n",
    "t  = \"#{root}2021-06-27--generate-invoice/1/invoice_builder/lib/invoice_builder.rb\"\n",
    "require t"
   ]
  },
  {
   "cell_type": "code",
   "execution_count": 22,
   "metadata": {},
   "outputs": [
    {
     "data": {
      "text/plain": [
       "[:pdf_generate_nine, :pdf_generate_seven, :pdf_generate_eight, :pdf_generate_footer, :pdf_generate_header, :get_format, :single, :generate, :options_update, :single_prepare, :example_payload, :pdf_generate_two, :pdf_generate_three, :pdf_generate_four, :pdf_generate_five, :pdf_generate_six, :get_value, :get_options]"
      ]
     },
     "execution_count": 22,
     "metadata": {},
     "output_type": "execute_result"
    }
   ],
   "source": [
    ".methods(false)"
   ]
  },
  {
   "cell_type": "code",
   "execution_count": null,
   "metadata": {},
   "outputs": [],
   "source": []
  },
  {
   "cell_type": "code",
   "execution_count": 27,
   "metadata": {},
   "outputs": [
    {
     "data": {
      "text/plain": [
       "[:meta__id, :meta__qr_code, :date__period__from, :date__period__to, :date__invoice, :date__billing, :from__address__name, :from__address__phrase, :from__address__street, :from__address__city, :from__address__country, :from__bank__name, :from__bank__iban, :from__bank__bic, :from__contact__phone, :from__contact__mobile, :from__contact__email, :from__contact__website, :from__tax_id, :to__address__name, :to__address__street, :to__address__city, :to__address__country, :to__tax_id, :items__articles, :items__sub_total, :items__shipping_fee, :items__total_net, :items__vat, :items__total_gross]"
      ]
     },
     "execution_count": 27,
     "metadata": {},
     "output_type": "execute_result"
    }
   ],
   "source": [
    "def get_allow_list( params )\n",
    "    lists = {}\n",
    "    lists[:allow] = []\n",
    "    lists[:block] = []\n",
    "\n",
    "    params.keys.each do | lvl1 |\n",
    "        if params[ lvl1 ].class.to_s.eql? 'Hash'\n",
    "            params[ lvl1 ].keys.each do | lvl2 |\n",
    "                if params[ lvl1 ][ lvl2 ].class.to_s.eql? 'Hash'\n",
    "                    params[ lvl1 ][ lvl2 ].keys.each do | lvl3 |\n",
    "                        if params[ lvl1 ][ lvl2 ][ lvl3 ].class.to_s.eql? 'Hash'\n",
    "                            params[ lvl1 ][ lvl2 ][ lvl3 ].keys.each do | lvl4 |\n",
    "                                if params[ lvl1 ][ lvl2 ][ lvl3 ][ lvl4 ].class.to_s.eql? 'Hash'\n",
    "                                    params[ lvl1 ][ lvl2 ][ lvl3 ][ lvl4 ].keys.each do | lvl5 |\n",
    "                                        if params[ lvl1 ][ lvl2 ][ lvl3 ][ lvl4 ][ lvl5 ].class.to_s.eql? 'Hash'\n",
    "                                            params[ lvl1 ][ lvl2 ][ lvl3 ][ lvl4 ][ lvl5 ].keys.each do | lvl6 |\n",
    "                                                if params[ lvl1 ][ lvl2 ][ lvl3 ][ lvl4 ][ lvl5 ].class.to_s.eql? 'Hash'\n",
    "                                                else\n",
    "                                                    str = ( lvl1.to_s + '__' + lvl2.to_s + '__' + lvl3.to_s + '__' + lvl4.to_s + '__' + lvl5.to_s + '__' + lvl6.to_s ).to_sym\n",
    "                                                    if !params[ lvl1 ][ lvl2 ][ lvl3 ][ lvl4 ][ lvl5 ][ lvl6 ].nil?\n",
    "                                                        lists[:allow].push( str )\n",
    "                                                    else\n",
    "                                                        lists[:block].push( str )\n",
    "                                                    end\n",
    "                                                end\n",
    "                                            end\n",
    "                                        else\n",
    "                                            str = ( lvl1.to_s + '__' + lvl2.to_s + '__' + lvl3.to_s + '__' + lvl4.to_s + '__' + lvl5.to_s ).to_sym\n",
    "                                            if !params[ lvl1 ][ lvl2 ][ lvl3 ][ lvl4 ][ lvl5 ].nil?\n",
    "                                                lists[:allow].push( str )\n",
    "                                            else\n",
    "                                                lists[:block].push( str )\n",
    "                                            end\n",
    "                                        end\n",
    "                                    end\n",
    "                                else\n",
    "                                    str = ( lvl1.to_s + '__' + lvl2.to_s + '__' + lvl3.to_s + '__' + lvl4.to_s ).to_sym\n",
    "                                    if !params[ lvl1 ][ lvl2 ][ lvl3 ][ lvl4 ].nil?\n",
    "                                        lists[:allow].push( str )\n",
    "                                    else\n",
    "                                        lists[:block].push( str )\n",
    "                                    end\n",
    "                                end\n",
    "                            end\n",
    "                        else\n",
    "                            str = ( lvl1.to_s + '__' + lvl2.to_s + '__' + lvl3.to_s ).to_sym\n",
    "                            if !params[ lvl1 ][ lvl2 ][ lvl3 ].nil?\n",
    "                                lists[:allow].push( str )\n",
    "                            else\n",
    "                                lists[:block].push( str )\n",
    "                            end\n",
    "                        end\n",
    "                    end\n",
    "                else\n",
    "                    str = ( lvl1.to_s + '__' + lvl2.to_s ).to_sym\n",
    "                    if !params[ lvl1 ][ lvl2  ].nil? \n",
    "                        lists[:allow].push( str )\n",
    "                    else\n",
    "                        lists[:block].push( str )\n",
    "                    end\n",
    "                end\n",
    "            end\n",
    "        else\n",
    "            str = lvl1\n",
    "            if !params[ lvl1 ].nil?\n",
    "                lists[:allow].push( str )\n",
    "            else\n",
    "                lists[:block].push( str )\n",
    "            end\n",
    "        end\n",
    "    end\n",
    "    return lists\n",
    "end\n",
    "\n",
    "\n",
    "test = {\n",
    "    github: {\n",
    "        profile: nil,\n",
    "        source: 'https://raw.githubusercontent.com/'\n",
    "        },\n",
    "    font: {\n",
    "        text_align: :left,\n",
    "        bold: false,\n",
    "        mode: {\n",
    "            h1: :local,\n",
    "            default: :google_fonts\n",
    "        },\n",
    "        local: {\n",
    "            h1: nil,\n",
    "            default: nil\n",
    "        },\n",
    "        google_fonts: {\n",
    "            h1: {\n",
    "                name: 'Oswald',\n",
    "                variant: 'regular',\n",
    "                subset: 'latin'         \n",
    "            },\n",
    "            default: {\n",
    "                name: 'Amatic SC',\n",
    "                variant: 'regular',\n",
    "                subset: 'latin'              \n",
    "            } \n",
    "        },\n",
    "        current: {\n",
    "            h1: nil,\n",
    "            default: nil\n",
    "        }\n",
    "    },\n",
    "    view: {\n",
    "        offset: {\n",
    "            height: 0,\n",
    "            widht: 0\n",
    "        }\n",
    "    },\n",
    "    style: {\n",
    "        h1: {\n",
    "            color: {\n",
    "                opacity: 1.0,\n",
    "                default: '#A5834B',\n",
    "                palette: []\n",
    "            },\n",
    "            stroke: {\n",
    "                color: 'none',\n",
    "                width: '0px',\n",
    "                opacity: 1.0,\n",
    "                linecap: 'butt'\n",
    "            }\n",
    "        },\n",
    "        default: {\n",
    "            color: {\n",
    "                opacity: 1.0,\n",
    "                default: '#A5834B',\n",
    "                palette: []\n",
    "            },\n",
    "            stroke: {\n",
    "                color: 'none',\n",
    "                width: '0px',\n",
    "                opacity: 1.0,\n",
    "                linecap: 'butt'\n",
    "            }\n",
    "        }\n",
    "    }\n",
    "}\n",
    "\n",
    "get_allow_list( .example_payload )[:allow]"
   ]
  },
  {
   "cell_type": "code",
   "execution_count": null,
   "metadata": {},
   "outputs": [],
   "source": []
  }
 ],
 "metadata": {
  "kernelspec": {
   "display_name": "Ruby 3.0.0",
   "language": "ruby",
   "name": "ruby"
  },
  "language_info": {
   "file_extension": ".rb",
   "mimetype": "application/x-ruby",
   "name": "ruby",
   "version": "3.0.0"
  },
  "toc": {
   "base_numbering": 1,
   "nav_menu": {},
   "number_sections": true,
   "sideBar": true,
   "skip_h1_title": false,
   "title_cell": "Table of Contents",
   "title_sidebar": "Contents",
   "toc_cell": false,
   "toc_position": {},
   "toc_section_display": true,
   "toc_window_display": true
  },
  "varInspector": {
   "cols": {
    "lenName": 16,
    "lenType": 16,
    "lenVar": 40
   },
   "kernels_config": {
    "python": {
     "delete_cmd_postfix": "",
     "delete_cmd_prefix": "del ",
     "library": "var_list.py",
     "varRefreshCmd": "print(var_dic_list())"
    },
    "r": {
     "delete_cmd_postfix": ") ",
     "delete_cmd_prefix": "rm(",
     "library": "var_list.r",
     "varRefreshCmd": "cat(var_dic_list()) "
    }
   },
   "types_to_exclude": [
    "module",
    "function",
    "builtin_function_or_method",
    "instance",
    "_Feature"
   ],
   "window_display": false
  }
 },
 "nbformat": 4,
 "nbformat_minor": 4
}
